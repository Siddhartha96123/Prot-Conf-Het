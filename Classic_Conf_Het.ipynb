{
  "nbformat": 4,
  "nbformat_minor": 0,
  "metadata": {
    "colab": {
      "provenance": [],
      "authorship_tag": "ABX9TyNdQ9yqc2mZ8T6bLvS/Vhwm",
      "include_colab_link": true
    },
    "kernelspec": {
      "name": "python3",
      "display_name": "Python 3"
    },
    "language_info": {
      "name": "python"
    }
  },
  "cells": [
    {
      "cell_type": "markdown",
      "metadata": {
        "id": "view-in-github",
        "colab_type": "text"
      },
      "source": [
        "<a href=\"https://colab.research.google.com/github/Siddhartha96123/Prot-Conf-Het/blob/main/Classic_Conf_Het.ipynb\" target=\"_parent\"><img src=\"https://colab.research.google.com/assets/colab-badge.svg\" alt=\"Open In Colab\"/></a>"
      ]
    },
    {
      "cell_type": "markdown",
      "source": [
        "### WELCOME to the ***CLASSIC*** Executable **Conformational Heterogeneity Scanner**.\n",
        "\n",
        "It is capable of performing an\n",
        "\n",
        "- APO vs Holo conformational heterogeneity scanning of same enzyme\n",
        "\n",
        "- Conformational heterogeneity scanning of bound forms of two different but highly homologous enzymes."
      ],
      "metadata": {
        "id": "gnsqcnSBflr8"
      }
    },
    {
      "cell_type": "markdown",
      "source": [
        "Please Press Play.\n",
        "\n",
        "We need to first Install the Dependencies"
      ],
      "metadata": {
        "id": "8fi6wVPKBmaq"
      }
    },
    {
      "cell_type": "code",
      "source": [
        "# Required libraries installation\n",
        "!pip install biopython"
      ],
      "metadata": {
        "id": "jiUxb56vInxf"
      },
      "execution_count": null,
      "outputs": []
    },
    {
      "cell_type": "markdown",
      "source": [
        "Now that the dependencies are done : Lets move onto the actual script.\n",
        "\n",
        "The script will at the tail end of this code - ask for the **Reference PDB** first - which shall be needed to be uploaded from your local system, followed by the **Target PDB**.\n",
        "\n",
        "Green tick on the left side of the Play button implies this part has been executed completely without any errors. Herein, we are :\n",
        "\n",
        "1. Defining the function for uploading files and Parsing. Initalizing the ***Superimposer***.\n",
        "\n",
        "2. Defining the function for aligning the structures.\n",
        "\n",
        "3. Defining the function for calculating *RMSD/Res*\n",
        "\n",
        "4. Defining the function to map the values on a an excel sheet.\n",
        "\n",
        "5. Defining the function for plotting the values from the excel to a Graph."
      ],
      "metadata": {
        "id": "2cSA0GuTB5xF"
      }
    },
    {
      "cell_type": "code",
      "source": [
        "from Bio.PDB import PDBParser, Superimposer, is_aa\n",
        "import numpy as np\n",
        "import pandas as pd\n",
        "import matplotlib.pyplot as plt\n",
        "from google.colab import files\n",
        "import os\n",
        "\n",
        "# Function to upload files in Colab\n",
        "def upload_files():\n",
        "    uploaded = files.upload()\n",
        "    file_paths = list(uploaded.keys())\n",
        "    return file_paths\n",
        "\n",
        "def align_structures(reference_path, target_path):\n",
        "    parser = PDBParser(QUIET=True)\n",
        "\n",
        "    # Load the reference structure\n",
        "    reference_structure = parser.get_structure(\"reference\", reference_path)\n",
        "\n",
        "    # Load the target structure\n",
        "    target_structure = parser.get_structure(\"target\", target_path)\n",
        "\n",
        "    # Check if structures are empty\n",
        "    if len(reference_structure) == 0 or len(target_structure) == 0:\n",
        "        raise ValueError(\"One or both of the structures are empty.\")\n",
        "\n",
        "    # Initialize the superimposer\n",
        "    superimposer = Superimposer()\n",
        "    reference_atoms = []\n",
        "    target_atoms = []\n",
        "\n",
        "    # Debugging: Print chain IDs to check if they match\n",
        "    print(\"Reference chains:\", [chain.id for chain in reference_structure[0]])\n",
        "    print(\"Target chains:\", [chain.id for chain in target_structure[0]])\n",
        "\n",
        "    # Iterate over residues in the reference structure and select only CA atoms\n",
        "    for ref_chain in reference_structure[0]:\n",
        "        for ref_residue in ref_chain:\n",
        "            if is_aa(ref_residue):  # Check if residue is an amino acid\n",
        "                try:\n",
        "                    ref_atom = ref_residue['CA']  # Select C-alpha atom\n",
        "\n",
        "                    # Try to find the closest residue in the target structure based on sequence\n",
        "                    for tgt_chain in target_structure[0]:\n",
        "                        try:\n",
        "                            # Match based on position in the sequence (not residue ID)\n",
        "                            tgt_residue = tgt_chain[ref_residue.id]\n",
        "                            tgt_atom = tgt_residue['CA']  # Select C-alpha atom\n",
        "\n",
        "                            # Append atoms for alignment only if both CA atoms exist\n",
        "                            reference_atoms.append(ref_atom)\n",
        "                            target_atoms.append(tgt_atom)\n",
        "\n",
        "                        except KeyError:\n",
        "                            continue  # Skip residues not found in the target structure\n",
        "                except KeyError:\n",
        "                    print(f\"Skipping atom in residue {ref_residue} (missing CA atom in reference).\")\n",
        "                    continue\n",
        "\n",
        "    # Check if atoms are available for superimposition\n",
        "    if not reference_atoms or not target_atoms:\n",
        "        raise ValueError(\"No atoms available for reference superimposition.\")\n",
        "\n",
        "    # Perform the superimposition\n",
        "    superimposer.set_atoms(reference_atoms, target_atoms)\n",
        "    superimposer.apply(target_structure[0].get_atoms())\n",
        "\n",
        "    return reference_structure, target_structure\n",
        "\n",
        "def calculate_distances(reference_structure, target_structure):\n",
        "    distances = []\n",
        "\n",
        "    # Iterate over residues and calculate distances only for CA atoms\n",
        "    for ref_chain in reference_structure[0]:\n",
        "        for ref_residue in ref_chain:\n",
        "            if is_aa(ref_residue):  # Check if residue is an amino acid\n",
        "                try:\n",
        "                    ref_atom = ref_residue['CA']  # Select C-alpha atom\n",
        "                    for tgt_chain in target_structure[0]:\n",
        "                        try:\n",
        "                            tgt_residue = tgt_chain[ref_residue.id]\n",
        "                            tgt_atom = tgt_residue['CA']  # Select C-alpha atom\n",
        "                            distance = np.linalg.norm(ref_atom.get_coord() - tgt_atom.get_coord())\n",
        "                            distances.append((ref_residue.id[1], tgt_residue.id[1], distance))  # Use residue ID\n",
        "                        except KeyError:\n",
        "                            # Skip residues not found in the target structure\n",
        "                            continue\n",
        "                except KeyError:\n",
        "                    # Skip atoms not found in the reference structure\n",
        "                    continue\n",
        "\n",
        "    return distances\n",
        "\n",
        "def save_distances_to_excel(distances, output_path):\n",
        "    df = pd.DataFrame(distances, columns=[\"Reference Residue\", \"Aligned Residue\", \"Distance\"])\n",
        "    df.to_excel(output_path, index=False)\n",
        "\n",
        "def plot_rmsf(distances, output_plot_path):\n",
        "    reference_residues = [d[0] for d in distances]\n",
        "    rmsf_values = [d[2] for d in distances]\n",
        "\n",
        "    plt.scatter(reference_residues, rmsf_values)\n",
        "    plt.xlabel(\"Reference Residue\")\n",
        "    plt.ylabel(\"RMSF (Å)\")\n",
        "    plt.title(\"Root Mean Square Fluctuation\")\n",
        "    plt.savefig(output_plot_path)\n",
        "    plt.close()"
      ],
      "metadata": {
        "id": "4pfGDouzBoWS"
      },
      "execution_count": 5,
      "outputs": []
    },
    {
      "cell_type": "markdown",
      "source": [
        "The green tick on the above block here signals that the functions to perform every associated funciton within this tool have been ***Defined & Initialised***  \n",
        "\n",
        "We can finally now, move to uploading the ***SINGLE CHAIN PDBs*** for all further analyses."
      ],
      "metadata": {
        "id": "IQzIMpwFJqor"
      }
    },
    {
      "cell_type": "code",
      "source": [
        "# Upload the PDB files individually\n",
        "print(\"Please upload the reference PDB file.\")\n",
        "reference_pdb = upload_files()[0]\n",
        "\n",
        "print(\"Please upload the target PDB file.\")\n",
        "target_pdb = upload_files()[0]\n",
        "\n",
        "try:\n",
        "    # Align structures\n",
        "    reference_structure, aligned_structure = align_structures(reference_pdb, target_pdb)\n",
        "\n",
        "    # Calculate distances between atoms\n",
        "    distances = calculate_distances(reference_structure, aligned_structure)\n",
        "\n",
        "    # Save distances to Excel\n",
        "    output_excel = \"temp_PDB_RMSF.xlsx\"\n",
        "    save_distances_to_excel(distances, output_excel)\n",
        "\n",
        "    # Plot RMSF\n",
        "    output_plot = \"temp_PDB_RMSF_plot.png\"\n",
        "    plot_rmsf(distances, output_plot)\n",
        "\n",
        "    # Download the files\n",
        "    print(\"Script execution completed. \\n The temp Excel file and the Plot shall be auto-downloaded to your local system now. \\n Please allow permissions.\")\n",
        "    files.download(output_excel)\n",
        "    files.download(output_plot)\n",
        "\n",
        "except Exception as e:\n",
        "    print(\"An error occurred during script execution:\", str(e))"
      ],
      "metadata": {
        "id": "8JkDbHtGJrBb"
      },
      "execution_count": null,
      "outputs": []
    },
    {
      "cell_type": "markdown",
      "source": [
        "# ***MAZE KARO.***"
      ],
      "metadata": {
        "id": "C1mbiODmMxDA"
      }
    }
  ]
}